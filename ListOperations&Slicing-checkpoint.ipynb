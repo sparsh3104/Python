{
 "cells": [
  {
   "cell_type": "code",
   "execution_count": 3,
   "id": "b4f1277c-ee6c-4bd1-acd3-9325491f5871",
   "metadata": {},
   "outputs": [
    {
     "name": "stdout",
     "output_type": "stream",
     "text": [
      "Original list: [10, 20, 30, 40, 50, 60, 70, 80, 90, 100]\n",
      "First element: 10\n",
      "Last element: 100\n",
      "List after appending 110: [10, 20, 30, 40, 50, 60, 70, 80, 90, 100, 110]\n",
      "List after inserting 25 at index 2: [10, 20, 25, 30, 40, 50, 60, 70, 80, 90, 100, 110]\n",
      "List after removing 25: [10, 20, 30, 40, 50, 60, 70, 80, 90, 100, 110]\n",
      "List after popping the last element: [10, 20, 30, 40, 50, 60, 70, 80, 90, 100]\n",
      "Popped element: 110\n",
      "Elements from index 1 to 4: [20, 30, 40, 50]\n",
      "Elements from the beginning to index 4: [10, 20, 30, 40, 50]\n",
      "Elements from index 3 to the end: [40, 50, 60, 70, 80, 90, 100]\n",
      "Every second element: [10, 30, 50, 70, 90]\n",
      "Reversed list: [100, 90, 80, 70, 60, 50, 40, 30, 20, 10]\n",
      "List after modifying the first element: [15, 20, 30, 40, 50, 60, 70, 80, 90, 100]\n",
      "Length of the list: 10\n",
      "Is 50 in the list? True\n",
      "Is 25 in the list? False\n",
      "Sorted list: [15, 20, 30, 40, 50, 60, 70, 80, 90, 100]\n",
      "Reversed list: [100, 90, 80, 70, 60, 50, 40, 30, 20, 15]\n"
     ]
    }
   ],
   "source": [
    "# Initialize a list\n",
    "my_list = [10, 20, 30, 40, 50, 60, 70, 80, 90, 100]\n",
    "# Print the complete list\n",
    "print(\"Original list:\", my_list)\n",
    "# Accessing elements\n",
    "print(\"First element:\", my_list[0])\n",
    "print(\"Last element:\", my_list[-1])\n",
    "# Adding elements\n",
    "my_list.append(110)\n",
    "print(\"List after appending 110:\", my_list)\n",
    "my_list.insert(2, 25)\n",
    "print(\"List after inserting 25 at index 2:\", my_list)\n",
    "# Removing elements\n",
    "my_list.remove(25)\n",
    "print(\"List after removing 25:\", my_list)\n",
    "popped_element = my_list.pop()\n",
    "print(\"List after popping the last element:\", my_list)\n",
    "print(\"Popped element:\", popped_element)\n",
    "# List slicing\n",
    "print(\"Elements from index 1 to 4:\", my_list[1:5])\n",
    "print(\"Elements from the beginning to index 4:\", my_list[:5])\n",
    "print(\"Elements from index 3 to the end:\", my_list[3:])\n",
    "print(\"Every second element:\", my_list[::2])\n",
    "print(\"Reversed list:\", my_list[::-1])\n",
    "# Modifying elements\n",
    "my_list[0] = 15\n",
    "print(\"List after modifying the first element:\", my_list)\n",
    "# Finding the length of the list\n",
    "print(\"Length of the list:\", len(my_list))\n",
    "# Checking for an element in the list\n",
    "print(\"Is 50 in the list?\", 50 in my_list)\n",
    "print(\"Is 25 in the list?\", 25 in my_list)\n",
    "# Sorting the list\n",
    "my_list.sort()\n",
    "print(\"Sorted list:\", my_list)\n",
    "# Reversing the list\n",
    "my_list.reverse()\n",
    "print(\"Reversed list:\", my_list)"
   ]
  },
  {
   "cell_type": "code",
   "execution_count": null,
   "id": "15d82ee0-6b2f-4e49-a902-3afb2a477a1e",
   "metadata": {},
   "outputs": [],
   "source": []
  }
 ],
 "metadata": {
  "kernelspec": {
   "display_name": "Python 3 (ipykernel)",
   "language": "python",
   "name": "python3"
  },
  "language_info": {
   "codemirror_mode": {
    "name": "ipython",
    "version": 3
   },
   "file_extension": ".py",
   "mimetype": "text/x-python",
   "name": "python",
   "nbconvert_exporter": "python",
   "pygments_lexer": "ipython3",
   "version": "3.12.5"
  }
 },
 "nbformat": 4,
 "nbformat_minor": 5
}
