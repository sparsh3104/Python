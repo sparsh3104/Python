{
 "cells": [
  {
   "cell_type": "code",
   "execution_count": 3,
   "id": "b20acec3-d69d-4028-bf47-822d4a325337",
   "metadata": {},
   "outputs": [
    {
     "name": "stdout",
     "output_type": "stream",
     "text": [
      "\n",
      "Options:\n",
      "1. Add student\n",
      "2. Update score\n",
      "3. Delete student\n",
      "4. Find highest score\n",
      "5. Exit\n"
     ]
    },
    {
     "name": "stdin",
     "output_type": "stream",
     "text": [
      "Enter your choice:  1\n",
      "Enter student's name:  Sparsh\n",
      "Enter student's score:  96\n"
     ]
    },
    {
     "name": "stdout",
     "output_type": "stream",
     "text": [
      "Added Sparsh with score 96\n",
      "\n",
      "Options:\n",
      "1. Add student\n",
      "2. Update score\n",
      "3. Delete student\n",
      "4. Find highest score\n",
      "5. Exit\n"
     ]
    },
    {
     "name": "stdin",
     "output_type": "stream",
     "text": [
      "Enter your choice:  5\n"
     ]
    }
   ],
   "source": [
    "students_scores = {}\n",
    "\n",
    "def add_student(name, score):\n",
    "    students_scores[name] = score\n",
    "    print(f\"Added {name} with score {score}\")\n",
    "\n",
    "def update_score(name, score):\n",
    "    if name in students_scores:\n",
    "        students_scores[name] = score\n",
    "        print(f\"Updated {name}'s score to {score}\")\n",
    "    else:\n",
    "        print(f\"Student {name} not found\")\n",
    "\n",
    "def delete_student(name):\n",
    "    if name in students_scores:\n",
    "        del students_scores[name]\n",
    "        print(f\"Deleted {name}\")\n",
    "    else:\n",
    "        print(f\"Student {name} not found\")\n",
    "\n",
    "def find_highest_score():\n",
    "    if students_scores:\n",
    "        highest_score_student = max(students_scores, key=students_scores.get)\n",
    "        highest_score = students_scores[highest_score_student]\n",
    "        print(f\"Highest score is {highest_score} by {highest_score_student}\")\n",
    "    else:\n",
    "        print(\"No students in the list\")\n",
    "\n",
    "def main():\n",
    "    while True:\n",
    "        print(\"\\nOptions:\")\n",
    "        print(\"1. Add student\")\n",
    "        print(\"2. Update score\")\n",
    "        print(\"3. Delete student\")\n",
    "        print(\"4. Find highest score\")\n",
    "        print(\"5. Exit\")\n",
    "        \n",
    "        choice = input(\"Enter your choice: \")\n",
    "        \n",
    "        if choice == '1':\n",
    "            name = input(\"Enter student's name: \")\n",
    "            score = int(input(\"Enter student's score: \"))\n",
    "            add_student(name, score)\n",
    "        elif choice == '2':\n",
    "            name = input(\"Enter student's name: \")\n",
    "            score = int(input(\"Enter new score: \"))\n",
    "            update_score(name, score)\n",
    "        elif choice == '3':\n",
    "            name = input(\"Enter student's name: \")\n",
    "            delete_student(name)\n",
    "        elif choice == '4':\n",
    "            find_highest_score()\n",
    "        elif choice == '5':\n",
    "            break\n",
    "        else:\n",
    "            print(\"Invalid choice. Please try again.\")\n",
    "\n",
    "main()\n"
   ]
  },
  {
   "cell_type": "code",
   "execution_count": null,
   "id": "460d68c4-b180-4324-ab6e-4f24b9da44ab",
   "metadata": {},
   "outputs": [],
   "source": []
  }
 ],
 "metadata": {
  "kernelspec": {
   "display_name": "Python 3 (ipykernel)",
   "language": "python",
   "name": "python3"
  },
  "language_info": {
   "codemirror_mode": {
    "name": "ipython",
    "version": 3
   },
   "file_extension": ".py",
   "mimetype": "text/x-python",
   "name": "python",
   "nbconvert_exporter": "python",
   "pygments_lexer": "ipython3",
   "version": "3.12.5"
  }
 },
 "nbformat": 4,
 "nbformat_minor": 5
}
